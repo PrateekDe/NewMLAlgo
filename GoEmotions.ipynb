{
 "cells": [
  {
   "cell_type": "markdown",
   "metadata": {},
   "source": [
    "# Sentiment Analysis"
   ]
  },
  {
   "cell_type": "code",
   "execution_count": null,
   "metadata": {},
   "outputs": [],
   "source": [
    "%pip install pandas numpy scikit-learn matplotlib datasets transformers ipywidgets ipykernel"
   ]
  },
  {
   "cell_type": "code",
   "execution_count": null,
   "metadata": {},
   "outputs": [],
   "source": [
    "import pandas as pd\n",
    "import numpy as np\n",
    "import sklearn as sklearn\n",
    "from datasets import load_dataset\n",
    "import re\n",
    "import string\n",
    "from sklearn.feature_extraction.text import TfidfVectorizer\n",
    "from sklearn.model_selection import train_test_split\n",
    "from sklearn.ensemble import RandomForestClassifier\n",
    "from sklearn.metrics import accuracy_score, f1_score\n",
    "from sklearn.feature_selection import SelectKBest, chi2\n",
    "from sklearn.model_selection import GridSearchCV\n",
    "\n",
    "\n",
    "# Mostly for the data preprocessing\n",
    "def preprocess(text):\n",
    "    text = text.lower()\n",
    "    text = re.sub(r'https?://S+|www\\.S+', '', text) #This removes URLs\n",
    "    text = re.sub(r'\\S*@\\S*\\s?', '', text)  # Remove emails\n",
    "    text = text.translate(str.maketrans('', '', string.punctuation))  # Remove punctuation\n",
    "    text = re.sub(r'\\s+', ' ', text).strip()  # Remove extra spaces\n",
    "    return text"
   ]
  },
  {
   "cell_type": "code",
   "execution_count": null,
   "metadata": {},
   "outputs": [],
   "source": [
    "# Breaking the existing dataset into 3 sectors: Train, Validation, Tests\n",
    "data = load_dataset('go_emotions')\n",
    "df_train = pd.DataFrame(data[\"train\"])\n",
    "df_val = pd.DataFrame(data[\"validation\"])\n",
    "df_test = pd.DataFrame(data[\"test\"])"
   ]
  },
  {
   "cell_type": "code",
   "execution_count": null,
   "metadata": {},
   "outputs": [],
   "source": [
    "# Next, we wanna use vectorization to convert the text data into numerical data.. Since ML algos dont understand \n",
    "vectorizer = TfidfVectorizer(max_features=100000, ngram_range=(1,2))  # Bigram TF-IDF\n",
    "X_train_tfidf = vectorizer.fit_transform(df_train[\"text\"])\n",
    "X_val_tfidf = vectorizer.transform(df_val[\"text\"])\n",
    "X_test_tfidf = vectorizer.transform(df_test[\"text\"])\n"
   ]
  },
  {
   "cell_type": "code",
   "execution_count": null,
   "metadata": {},
   "outputs": [],
   "source": [
    "# Now we wanna convert the labels into a multi-label format\n",
    "from sklearn.preprocessing import MultiLabelBinarizer\n",
    "\n",
    "# Convert lists into multi-label format\n",
    "mlb = MultiLabelBinarizer()\n",
    "y_train = mlb.fit_transform(df_train[\"labels\"])\n",
    "y_val = mlb.transform(df_val[\"labels\"])\n",
    "y_test = mlb.transform(df_test[\"labels\"])"
   ]
  },
  {
   "cell_type": "code",
   "execution_count": null,
   "metadata": {},
   "outputs": [],
   "source": [
    "param_grid = {\n",
    "    \"n_estimators\": [300, 500, 700],\n",
    "    \"max_depth\": [20, 30, 40],\n",
    "}\n",
    "\n",
    "grid_search = GridSearchCV(RandomForestClassifier(random_state=42), param_grid, cv=3, scoring=\"f1_weighted\")\n",
    "grid_search.fit(X_train_tfidf, y_train)\n",
    "\n",
    "print(\"Best Params:\", grid_search.best_params_)\n"
   ]
  },
  {
   "cell_type": "code",
   "execution_count": null,
   "metadata": {},
   "outputs": [],
   "source": [
    "# Next, we wanna split the data into training and Validation sets.. Now this is really important since we wanna make sure that everything is gonna work perfecty  \n",
    "X_train, X_test, y_train, y_test = train_test_split(X_train_tfidf, y_train, test_size=0.2, random_state=42)"
   ]
  },
  {
   "cell_type": "code",
   "execution_count": null,
   "metadata": {},
   "outputs": [],
   "source": [
    "# Now we wanna train the model.. We are gonna use the Random Forest Classifier\n",
    "# Initialize Random Forest Model\n",
    "rf_model = RandomForestClassifier(n_estimators=500, class_weight=\"balanced\", random_state=42)\n",
    "rf_model.fit(X_train, y_train)\n",
    "y_pred = rf_model.predict(X_test)"
   ]
  },
  {
   "cell_type": "code",
   "execution_count": null,
   "metadata": {},
   "outputs": [],
   "source": [
    "# Checking the model performance  \n",
    "accuracy = accuracy_score(y_test, y_pred)\n",
    "f1 = f1_score(y_test, y_pred, average=\"weighted\")\n",
    "print(f\"Model Accuracy: {accuracy:.4f}\")\n",
    "print(f\"Model F1 Score: {f1:.4f}\")"
   ]
  }
 ],
 "metadata": {
  "kernelspec": {
   "display_name": "mindscribe",
   "language": "python",
   "name": "python3"
  },
  "language_info": {
   "codemirror_mode": {
    "name": "ipython",
    "version": 3
   },
   "file_extension": ".py",
   "mimetype": "text/x-python",
   "name": "python",
   "nbconvert_exporter": "python",
   "pygments_lexer": "ipython3",
   "version": "3.10.15"
  }
 },
 "nbformat": 4,
 "nbformat_minor": 2
}
